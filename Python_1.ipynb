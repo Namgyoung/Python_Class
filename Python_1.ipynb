{
  "nbformat": 4,
  "nbformat_minor": 0,
  "metadata": {
    "colab": {
      "name": "Python_1",
      "provenance": [],
      "collapsed_sections": []
    },
    "kernelspec": {
      "name": "python3",
      "display_name": "Python 3"
    },
    "language_info": {
      "name": "python"
    }
  },
  "cells": [
    {
      "cell_type": "code",
      "metadata": {
        "colab": {
          "base_uri": "https://localhost:8080/"
        },
        "id": "U8ypoa1anNqi",
        "outputId": "513b950a-3e80-4120-d852-44f4ff8d2d11"
      },
      "source": [
        "print(5+10)"
      ],
      "execution_count": null,
      "outputs": [
        {
          "output_type": "stream",
          "name": "stdout",
          "text": [
            "15\n"
          ]
        }
      ]
    },
    {
      "cell_type": "code",
      "metadata": {
        "colab": {
          "base_uri": "https://localhost:8080/"
        },
        "id": "uHRnjGD9nYam",
        "outputId": "be082c6f-fda5-4935-c95a-32220e5e47cb"
      },
      "source": [
        "for i in range(10):\n",
        "  print (i)"
      ],
      "execution_count": null,
      "outputs": [
        {
          "output_type": "stream",
          "name": "stdout",
          "text": [
            "0\n",
            "1\n",
            "2\n",
            "3\n",
            "4\n",
            "5\n",
            "6\n",
            "7\n",
            "8\n",
            "9\n"
          ]
        }
      ]
    },
    {
      "cell_type": "code",
      "metadata": {
        "colab": {
          "base_uri": "https://localhost:8080/"
        },
        "id": "zKOkbGWEntpu",
        "outputId": "51283ce8-6cbb-4488-f3b5-f1ca665a2c2e"
      },
      "source": [
        "print(10**3)"
      ],
      "execution_count": null,
      "outputs": [
        {
          "output_type": "stream",
          "name": "stdout",
          "text": [
            "1000\n"
          ]
        }
      ]
    },
    {
      "cell_type": "code",
      "metadata": {
        "colab": {
          "base_uri": "https://localhost:8080/"
        },
        "id": "SoRhbXruoI3z",
        "outputId": "1403cb73-3f21-4017-d6a3-72f070d399d6"
      },
      "source": [
        "a=['Kaist', 'Yale', 'Stanford', 'Harvard', 'MIT']\n",
        "a.sort(key=len, reverse=True)"
      ],
      "execution_count": null,
      "outputs": [
        {
          "output_type": "stream",
          "name": "stdout",
          "text": [
            "['Stanford', 'Harvard', 'Kaist', 'Yale', 'MIT']\n"
          ]
        }
      ]
    },
    {
      "cell_type": "code",
      "metadata": {
        "colab": {
          "base_uri": "https://localhost:8080/"
        },
        "id": "l_Vj0pUKtSCR",
        "outputId": "ea4d6a85-13e1-400c-d1c4-82465a164f8b"
      },
      "source": [
        "a"
      ],
      "execution_count": null,
      "outputs": [
        {
          "output_type": "execute_result",
          "data": {
            "text/plain": [
              "['Stanford', 'Harvard', 'Kaist', 'Yale', 'MIT']"
            ]
          },
          "metadata": {},
          "execution_count": 12
        }
      ]
    },
    {
      "cell_type": "code",
      "metadata": {
        "colab": {
          "base_uri": "https://localhost:8080/"
        },
        "id": "fbbf0fKXuX-Q",
        "outputId": "dc826847-2045-4d18-fcb0-27622d4e97fd"
      },
      "source": [
        "from collections import Counter\n",
        "Counter(list('Stanford'))"
      ],
      "execution_count": null,
      "outputs": [
        {
          "output_type": "execute_result",
          "data": {
            "text/plain": [
              "Counter({'S': 1, 'a': 1, 'd': 1, 'f': 1, 'n': 1, 'o': 1, 'r': 1, 't': 1})"
            ]
          },
          "metadata": {},
          "execution_count": 18
        }
      ]
    },
    {
      "cell_type": "code",
      "metadata": {
        "colab": {
          "base_uri": "https://localhost:8080/"
        },
        "id": "XJGmMqzGv20M",
        "outputId": "b37f26b5-6819-4599-dbbf-b12f1298553e"
      },
      "source": [
        "a=['Kaist', 'Yale', 'Stanford', 'Harvard', 'MIT']\n",
        "sorted(a, key=lambda x: Counter(list(x))['a'], reverse=True)"
      ],
      "execution_count": null,
      "outputs": [
        {
          "output_type": "execute_result",
          "data": {
            "text/plain": [
              "['Harvard', 'Kaist', 'Yale', 'Stanford', 'MIT']"
            ]
          },
          "metadata": {},
          "execution_count": 19
        }
      ]
    },
    {
      "cell_type": "code",
      "metadata": {
        "colab": {
          "base_uri": "https://localhost:8080/"
        },
        "id": "T_AzVKs4w9bk",
        "outputId": "bc75af08-8b0e-485f-b08f-cb1e63d98186"
      },
      "source": [
        "y=lambda x,y,z: (x+y+z)/3\n",
        "y(5,10,15)"
      ],
      "execution_count": null,
      "outputs": [
        {
          "output_type": "execute_result",
          "data": {
            "text/plain": [
              "10.0"
            ]
          },
          "metadata": {},
          "execution_count": 21
        }
      ]
    },
    {
      "cell_type": "code",
      "metadata": {
        "id": "cejN2WjexLVf"
      },
      "source": [
        "###prompt the user to enter a number. return the minimum of the 'so far numbers'\n",
        "L = []\n",
        "while True:\n",
        "  n=input('Enter a number: ')\n",
        "  try:\n",
        "    L.append(int(n))\n",
        "  except Exception as err:\n",
        "    pass\n",
        "  if len(L)>0:\n",
        "    print('Minimum = ',min(L))\n",
        "  else:\n",
        "    print('enter a number please')"
      ],
      "execution_count": null,
      "outputs": []
    },
    {
      "cell_type": "code",
      "metadata": {
        "colab": {
          "base_uri": "https://localhost:8080/"
        },
        "id": "xNMvp0xoy7Hn",
        "outputId": "9053a33e-9cfb-4cec-b4fa-6f99e6d8af57"
      },
      "source": [
        "##find the first repeating character in a string\n",
        "#ex) 'People' --> 'p', 'door' --> 'o', 'woman' --> None, '' --> None\n",
        "n='people'\n",
        "d=Counter(n)\n",
        "for each in list(n):\n",
        "  if d[each]>1:\n",
        "    print(each)\n",
        "    break"
      ],
      "execution_count": null,
      "outputs": [
        {
          "output_type": "stream",
          "name": "stdout",
          "text": [
            "p\n"
          ]
        }
      ]
    },
    {
      "cell_type": "code",
      "metadata": {
        "colab": {
          "base_uri": "https://localhost:8080/"
        },
        "id": "Uyg2vB7K2g8n",
        "outputId": "99680baa-ad27-45ff-8944-3e077f05f5de"
      },
      "source": [
        "#Dictionary\n",
        "d={}\n",
        "type(d)"
      ],
      "execution_count": null,
      "outputs": [
        {
          "output_type": "execute_result",
          "data": {
            "text/plain": [
              "dict"
            ]
          },
          "metadata": {},
          "execution_count": 34
        }
      ]
    },
    {
      "cell_type": "code",
      "metadata": {
        "colab": {
          "base_uri": "https://localhost:8080/"
        },
        "id": "XKTNFibO6sA-",
        "outputId": "c61aa4c6-558c-49d6-f8d2-fe037f1afa84"
      },
      "source": [
        "a={}\n",
        "a['Lee'] = `111-222-4444`\n",
        "a['Sam'] = `666-000-1111`\n",
        "a['Kim'] = `444-222-1132`\n",
        "a"
      ],
      "execution_count": null,
      "outputs": [
        {
          "output_type": "execute_result",
          "data": {
            "text/plain": [
              "{'Kim': '444-222-113', 'Lee': '111-222-4444', 'Sam': '666-000-1111'}"
            ]
          },
          "metadata": {},
          "execution_count": 1
        }
      ]
    },
    {
      "cell_type": "code",
      "metadata": {
        "colab": {
          "base_uri": "https://localhost:8080/"
        },
        "id": "3KmPx_b47HXH",
        "outputId": "fc96dcea-985f-44ab-928b-3a1d0118661d"
      },
      "source": [
        "d"
      ],
      "execution_count": null,
      "outputs": [
        {
          "output_type": "execute_result",
          "data": {
            "text/plain": [
              "{}"
            ]
          },
          "metadata": {},
          "execution_count": 40
        }
      ]
    },
    {
      "cell_type": "code",
      "metadata": {
        "colab": {
          "base_uri": "https://localhost:8080/"
        },
        "id": "tbYu6SVb7Zp-",
        "outputId": "4c548cb7-d155-4eb3-832c-14c341e0195e"
      },
      "source": [
        "grades = {'Sarah': [90, 95, 100, 85, 100],\n",
        "          'Garam': [100,100,100,100,100],\n",
        "          'Yujin': [95,98,99,97,90,100,100,100]}\n",
        "grades['Sarah']"
      ],
      "execution_count": null,
      "outputs": [
        {
          "output_type": "execute_result",
          "data": {
            "text/plain": [
              "[90, 95, 100, 85, 100]"
            ]
          },
          "metadata": {},
          "execution_count": 3
        }
      ]
    },
    {
      "cell_type": "code",
      "metadata": {
        "colab": {
          "base_uri": "https://localhost:8080/"
        },
        "id": "_otOMq0974yW",
        "outputId": "eeca1f50-f57c-4d1d-9f1d-9c7595e81e9f"
      },
      "source": [
        "avg={}\n",
        "for student in grades.keys():\n",
        "  grds = grades[student]\n",
        "  avg = sum(grds)/len(grds)\n",
        "\n",
        "print(avg)"
      ],
      "execution_count": null,
      "outputs": [
        {
          "output_type": "stream",
          "name": "stdout",
          "text": [
            "97.375\n"
          ]
        }
      ]
    },
    {
      "cell_type": "code",
      "metadata": {
        "id": "9mwEGwj59Kof"
      },
      "source": [
        "# []: new element into dictionary, (): method, function\n",
        "\n",
        "emps = {'Alex': []}"
      ],
      "execution_count": null,
      "outputs": []
    },
    {
      "cell_type": "code",
      "metadata": {
        "colab": {
          "base_uri": "https://localhost:8080/"
        },
        "id": "tLba4slFAG92",
        "outputId": "592be4d3-98a1-43f4-90ee-b5129d10d8cb"
      },
      "source": [
        "fruits = ['Apple', 'Strawberry', 'Pear', 'Banana', 'Blueberry']\n",
        "[fruit for fruit in fruits if not fruit.endswith('berry')]"
      ],
      "execution_count": null,
      "outputs": [
        {
          "output_type": "execute_result",
          "data": {
            "text/plain": [
              "['Apple', 'Pear', 'Banana']"
            ]
          },
          "metadata": {},
          "execution_count": 53
        }
      ]
    },
    {
      "cell_type": "code",
      "metadata": {
        "colab": {
          "base_uri": "https://localhost:8080/"
        },
        "id": "oCkMguryBhMA",
        "outputId": "6fff6ad5-4779-4995-a289-915c8509fd4d"
      },
      "source": [
        "numbers = [9,6,8,4,5,3,1,10]\n",
        "[n for n in numbers if n%2==1]"
      ],
      "execution_count": null,
      "outputs": [
        {
          "output_type": "execute_result",
          "data": {
            "text/plain": [
              "[9, 5, 3, 1]"
            ]
          },
          "metadata": {},
          "execution_count": 58
        }
      ]
    },
    {
      "cell_type": "code",
      "metadata": {
        "colab": {
          "base_uri": "https://localhost:8080/"
        },
        "id": "b-dOJeh0B1No",
        "outputId": "5d2c5058-2944-4551-a2bf-433582ae6e1d"
      },
      "source": [
        "[i for i in range(101) if i%7==0]"
      ],
      "execution_count": null,
      "outputs": [
        {
          "output_type": "execute_result",
          "data": {
            "text/plain": [
              "[0, 7, 14, 21, 28, 35, 42, 49, 56, 63, 70, 77, 84, 91, 98]"
            ]
          },
          "metadata": {},
          "execution_count": 59
        }
      ]
    },
    {
      "cell_type": "code",
      "metadata": {
        "colab": {
          "base_uri": "https://localhost:8080/"
        },
        "id": "WgtP3PszC8s2",
        "outputId": "6796643c-631b-4a66-bb47-34553f9b86f2"
      },
      "source": [
        "len([i for i in range(101) if i%7==0])"
      ],
      "execution_count": null,
      "outputs": [
        {
          "output_type": "execute_result",
          "data": {
            "text/plain": [
              "15"
            ]
          },
          "metadata": {},
          "execution_count": 60
        }
      ]
    },
    {
      "cell_type": "code",
      "metadata": {
        "colab": {
          "base_uri": "https://localhost:8080/"
        },
        "id": "9KrRhogoC_hO",
        "outputId": "41b46200-cfc8-4b26-f985-574f74e131e4"
      },
      "source": [
        "even=lambda x: x%2==0\n",
        "even(10)"
      ],
      "execution_count": null,
      "outputs": [
        {
          "output_type": "execute_result",
          "data": {
            "text/plain": [
              "True"
            ]
          },
          "metadata": {},
          "execution_count": 64
        }
      ]
    },
    {
      "cell_type": "code",
      "metadata": {
        "colab": {
          "base_uri": "https://localhost:8080/"
        },
        "id": "mvd8YYw9DbEn",
        "outputId": "683616e4-6cc4-4c1a-a452-23bed6b015f8"
      },
      "source": [
        "even = lambda x:True if x%2==0 else False\n",
        "even(111)"
      ],
      "execution_count": null,
      "outputs": [
        {
          "output_type": "execute_result",
          "data": {
            "text/plain": [
              "False"
            ]
          },
          "metadata": {},
          "execution_count": 68
        }
      ]
    },
    {
      "cell_type": "code",
      "metadata": {
        "colab": {
          "base_uri": "https://localhost:8080/"
        },
        "id": "OK_shiExDlNv",
        "outputId": "7de0ab1e-5e81-42ed-d5d8-6183d43dbfee"
      },
      "source": [
        "!pip install pandas\n",
        "numbers = [10,8,5,2,7,3,4,6]\n",
        "list(map(even, numbers))"
      ],
      "execution_count": null,
      "outputs": [
        {
          "output_type": "stream",
          "name": "stdout",
          "text": [
            "Requirement already satisfied: pandas in /usr/local/lib/python3.7/dist-packages (1.1.5)\n",
            "Requirement already satisfied: python-dateutil>=2.7.3 in /usr/local/lib/python3.7/dist-packages (from pandas) (2.8.2)\n",
            "Requirement already satisfied: pytz>=2017.2 in /usr/local/lib/python3.7/dist-packages (from pandas) (2018.9)\n",
            "Requirement already satisfied: numpy>=1.15.4 in /usr/local/lib/python3.7/dist-packages (from pandas) (1.19.5)\n",
            "Requirement already satisfied: six>=1.5 in /usr/local/lib/python3.7/dist-packages (from python-dateutil>=2.7.3->pandas) (1.15.0)\n"
          ]
        },
        {
          "output_type": "execute_result",
          "data": {
            "text/plain": [
              "[True, True, False, True, False, False, True, True]"
            ]
          },
          "metadata": {},
          "execution_count": 72
        }
      ]
    },
    {
      "cell_type": "code",
      "metadata": {
        "colab": {
          "base_uri": "https://localhost:8080/"
        },
        "id": "d3VqiMvCD2Tw",
        "outputId": "499fe4dc-b9ae-485b-918e-b341de0e1061"
      },
      "source": [
        "list(filter(even, numbers))"
      ],
      "execution_count": null,
      "outputs": [
        {
          "output_type": "execute_result",
          "data": {
            "text/plain": [
              "[10, 8, 2, 4, 6]"
            ]
          },
          "metadata": {},
          "execution_count": 73
        }
      ]
    },
    {
      "cell_type": "code",
      "metadata": {
        "colab": {
          "base_uri": "https://localhost:8080/"
        },
        "id": "QhptmI6PEVOu",
        "outputId": "85fad235-3c77-43d4-d732-c716478245d2"
      },
      "source": [
        "list(filter(lambda x: x%2==0, numbers))"
      ],
      "execution_count": null,
      "outputs": [
        {
          "output_type": "execute_result",
          "data": {
            "text/plain": [
              "[10, 8, 2, 4, 6]"
            ]
          },
          "metadata": {},
          "execution_count": 75
        }
      ]
    },
    {
      "cell_type": "code",
      "metadata": {
        "colab": {
          "base_uri": "https://localhost:8080/"
        },
        "id": "HKqdq226EZw-",
        "outputId": "0d831437-94de-4068-82f6-b2b84444fbf9"
      },
      "source": [
        "Names = ['Alex','Sameer', 'Yujin', 'Lee', 'David']\n",
        "print([name for name in Names if len(name)>=5])\n",
        "print(list(filter(lambda x: len(x)>=5, Names)))"
      ],
      "execution_count": null,
      "outputs": [
        {
          "output_type": "stream",
          "name": "stdout",
          "text": [
            "['Sameer', 'Yujin', 'David']\n",
            "['Sameer', 'Yujin', 'David']\n"
          ]
        }
      ]
    },
    {
      "cell_type": "code",
      "metadata": {
        "id": "6B8ZkR8ZFf2A"
      },
      "source": [
        "import pandas as pd\n",
        "import numpy as np"
      ],
      "execution_count": null,
      "outputs": []
    },
    {
      "cell_type": "code",
      "metadata": {
        "colab": {
          "base_uri": "https://localhost:8080/",
          "height": 35
        },
        "id": "YqMcNdtaGx5f",
        "outputId": "0a8b37bf-be00-4c38-f475-0163e11468ed"
      },
      "source": [
        "np.__version__"
      ],
      "execution_count": null,
      "outputs": [
        {
          "output_type": "execute_result",
          "data": {
            "application/vnd.google.colaboratory.intrinsic+json": {
              "type": "string"
            },
            "text/plain": [
              "'1.19.5'"
            ]
          },
          "metadata": {},
          "execution_count": 83
        }
      ]
    },
    {
      "cell_type": "code",
      "metadata": {
        "colab": {
          "base_uri": "https://localhost:8080/",
          "height": 35
        },
        "id": "S2UU-SWbGzYu",
        "outputId": "0677b9df-20b9-415b-9b18-8c8d62299050"
      },
      "source": [
        "pd.__version__"
      ],
      "execution_count": null,
      "outputs": [
        {
          "output_type": "execute_result",
          "data": {
            "application/vnd.google.colaboratory.intrinsic+json": {
              "type": "string"
            },
            "text/plain": [
              "'1.1.5'"
            ]
          },
          "metadata": {},
          "execution_count": 84
        }
      ]
    },
    {
      "cell_type": "code",
      "metadata": {
        "colab": {
          "base_uri": "https://localhost:8080/"
        },
        "id": "e6Orqi7uG5Ou",
        "outputId": "9ba6bd29-71b6-437b-edf1-090f76de3df6"
      },
      "source": [
        "s=pd.Series([1,2,5])\n",
        "s"
      ],
      "execution_count": null,
      "outputs": [
        {
          "output_type": "execute_result",
          "data": {
            "text/plain": [
              "0    1\n",
              "1    2\n",
              "2    5\n",
              "dtype: int64"
            ]
          },
          "metadata": {},
          "execution_count": 85
        }
      ]
    },
    {
      "cell_type": "code",
      "metadata": {
        "colab": {
          "base_uri": "https://localhost:8080/"
        },
        "id": "jH6e2Bc0G_vG",
        "outputId": "2f5e19a3-404d-4619-ac4f-db8664c30ad9"
      },
      "source": [
        "s=pd.Series([5,2,4], index=['Hello', 'Hi', 'Bye'])\n",
        "s"
      ],
      "execution_count": null,
      "outputs": [
        {
          "output_type": "execute_result",
          "data": {
            "text/plain": [
              "Hello    5\n",
              "Hi       2\n",
              "Bye      4\n",
              "dtype: int64"
            ]
          },
          "metadata": {},
          "execution_count": 86
        }
      ]
    },
    {
      "cell_type": "code",
      "metadata": {
        "colab": {
          "base_uri": "https://localhost:8080/"
        },
        "id": "OsuiyGCoHKf-",
        "outputId": "bd7f2c4b-67b9-4e04-8a04-97ec9df63411"
      },
      "source": [
        "type(s.values)"
      ],
      "execution_count": null,
      "outputs": [
        {
          "output_type": "execute_result",
          "data": {
            "text/plain": [
              "numpy.ndarray"
            ]
          },
          "metadata": {},
          "execution_count": 87
        }
      ]
    },
    {
      "cell_type": "code",
      "metadata": {
        "colab": {
          "base_uri": "https://localhost:8080/"
        },
        "id": "q1bDgJ5KHWuG",
        "outputId": "ce948f2c-b3e5-4e44-b847-bb24d18ea07b"
      },
      "source": [
        "emps = pd.Series(['Alex', 'Sarah'], index=['2000-01-01', '2020-10-10'])\n",
        "emps"
      ],
      "execution_count": null,
      "outputs": [
        {
          "output_type": "execute_result",
          "data": {
            "text/plain": [
              "2000-01-01     Alex\n",
              "2020-10-10    Sarah\n",
              "dtype: object"
            ]
          },
          "metadata": {},
          "execution_count": 89
        }
      ]
    },
    {
      "cell_type": "code",
      "metadata": {
        "colab": {
          "base_uri": "https://localhost:8080/",
          "height": 35
        },
        "id": "bYzLjRJpH-94",
        "outputId": "2a1e68c0-d84a-45cb-d6e5-ca454fe098f5"
      },
      "source": [
        "emps['2000-01-01']"
      ],
      "execution_count": null,
      "outputs": [
        {
          "output_type": "execute_result",
          "data": {
            "application/vnd.google.colaboratory.intrinsic+json": {
              "type": "string"
            },
            "text/plain": [
              "'Alex'"
            ]
          },
          "metadata": {},
          "execution_count": 90
        }
      ]
    },
    {
      "cell_type": "code",
      "metadata": {
        "colab": {
          "base_uri": "https://localhost:8080/"
        },
        "id": "xSNZUQ2CIKN3",
        "outputId": "29ca1deb-f421-4a60-b161-60461c836242"
      },
      "source": [
        "n=np.random.randint(0,100,100)\n",
        "s=pd.Series(n)\n",
        "s"
      ],
      "execution_count": null,
      "outputs": [
        {
          "output_type": "execute_result",
          "data": {
            "text/plain": [
              "0     43\n",
              "1     81\n",
              "2     92\n",
              "3     14\n",
              "4     89\n",
              "      ..\n",
              "95    95\n",
              "96    56\n",
              "97    43\n",
              "98    37\n",
              "99    73\n",
              "Length: 100, dtype: int64"
            ]
          },
          "metadata": {},
          "execution_count": 91
        }
      ]
    },
    {
      "cell_type": "code",
      "metadata": {
        "colab": {
          "base_uri": "https://localhost:8080/"
        },
        "id": "FCFGRfb1IQzO",
        "outputId": "e97ff0fe-e8c8-4988-fe52-2a1369b8798f"
      },
      "source": [
        "s.sum()"
      ],
      "execution_count": null,
      "outputs": [
        {
          "output_type": "execute_result",
          "data": {
            "text/plain": [
              "5314"
            ]
          },
          "metadata": {},
          "execution_count": 92
        }
      ]
    },
    {
      "cell_type": "code",
      "metadata": {
        "colab": {
          "base_uri": "https://localhost:8080/"
        },
        "id": "pDgAL0RuITcO",
        "outputId": "c66a0a9d-9919-4b3e-9eff-e43d6273af64"
      },
      "source": [
        "s.min()"
      ],
      "execution_count": null,
      "outputs": [
        {
          "output_type": "execute_result",
          "data": {
            "text/plain": [
              "1"
            ]
          },
          "metadata": {},
          "execution_count": 93
        }
      ]
    },
    {
      "cell_type": "code",
      "metadata": {
        "colab": {
          "base_uri": "https://localhost:8080/"
        },
        "id": "2JfV1BuhIWA3",
        "outputId": "1fe85405-8e05-4875-dc99-346fa4215ed4"
      },
      "source": [
        "s.max()"
      ],
      "execution_count": null,
      "outputs": [
        {
          "output_type": "execute_result",
          "data": {
            "text/plain": [
              "99"
            ]
          },
          "metadata": {},
          "execution_count": 94
        }
      ]
    },
    {
      "cell_type": "code",
      "metadata": {
        "colab": {
          "base_uri": "https://localhost:8080/"
        },
        "id": "VbyYbjJAIb3e",
        "outputId": "34ff9919-8511-4392-bcd3-69ff03620fcc"
      },
      "source": [
        "s.mean()"
      ],
      "execution_count": null,
      "outputs": [
        {
          "output_type": "execute_result",
          "data": {
            "text/plain": [
              "53.14"
            ]
          },
          "metadata": {},
          "execution_count": 95
        }
      ]
    },
    {
      "cell_type": "code",
      "metadata": {
        "id": "91yqgk8EIc8X"
      },
      "source": [
        ""
      ],
      "execution_count": null,
      "outputs": []
    }
  ]
}