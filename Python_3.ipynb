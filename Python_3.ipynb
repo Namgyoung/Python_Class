{
  "nbformat": 4,
  "nbformat_minor": 0,
  "metadata": {
    "colab": {
      "name": "Python_3.ipynb",
      "provenance": [],
      "authorship_tag": "ABX9TyPfZ2qOUDY+/PDl/p2+zlJE",
      "include_colab_link": true
    },
    "kernelspec": {
      "name": "python3",
      "display_name": "Python 3"
    },
    "language_info": {
      "name": "python"
    }
  },
  "cells": [
    {
      "cell_type": "markdown",
      "metadata": {
        "id": "view-in-github",
        "colab_type": "text"
      },
      "source": [
        "<a href=\"https://colab.research.google.com/github/Namgyoung/Python_Class/blob/main/Python_3.ipynb\" target=\"_parent\"><img src=\"https://colab.research.google.com/assets/colab-badge.svg\" alt=\"Open In Colab\"/></a>"
      ]
    },
    {
      "cell_type": "code",
      "execution_count": null,
      "metadata": {
        "id": "H7OqYZrKzj4b"
      },
      "outputs": [],
      "source": [
        "import numpy as np\n",
        "import pandas as pd\n",
        "\n",
        "url = 'https://en.wikipedia.org/wiki/List_of_NBA_champions'\n",
        "dfs = pd.read_html(url)\n",
        "nba = dfs[1].copy(deep=True)\n",
        "nba.head()"
      ]
    },
    {
      "cell_type": "code",
      "source": [
        "nba.Year = [int(year[0:4]) if year[0:4].isdigit() else np.nan \n",
        "            for year in nba.Year.tolist()]\n",
        "            \n",
        "nba.head()"
      ],
      "metadata": {
        "id": "AVzoVB6X00g9"
      },
      "execution_count": null,
      "outputs": []
    },
    {
      "cell_type": "code",
      "source": [
        "nba = nba[nba.Year.notnull()]\n",
        "nba.Year = nba.Year.astype(int)\n",
        "nba.head()"
      ],
      "metadata": {
        "id": "IYpYTikn1MFV"
      },
      "execution_count": null,
      "outputs": []
    },
    {
      "cell_type": "code",
      "source": [
        "nba.rename(columns={'Coach':'Western Coach', 'Coach.1':'Eastern Coach'}, inplace = True)\n",
        "nba.columns = [re.sub('\\s+', '_', col).upper() for col in nba.columns]     #re.sub function은 아래 #practice for practice에서 참고하기\n",
        "nba.drop(columns='REFERENCE', inplace = True)\n",
        "nba.head()"
      ],
      "metadata": {
        "id": "y8uYtO9B2aXc"
      },
      "execution_count": null,
      "outputs": []
    },
    {
      "cell_type": "code",
      "source": [
        "#뒤에 오는 숫자들 삭제하기\n",
        "nba.WESTERN_FINALIST.unique()\n",
        "res1 = [team.strip(' '+string.punctuation+string.digits+'–')\n",
        "        for team in nba.WESTERN_FINALIST]\n",
        "res1"
      ],
      "metadata": {
        "id": "_RyDEBUA-3pI"
      },
      "execution_count": null,
      "outputs": []
    },
    {
      "cell_type": "code",
      "source": [
        "res2 = [team.split('(')[0].strip()\n",
        "        for team in nba.WESTERN_FINALIST]\n",
        "res2   #이 방법이 더 쉽쥬?"
      ],
      "metadata": {
        "id": "_7x7Zryl-3rW"
      },
      "execution_count": null,
      "outputs": []
    },
    {
      "cell_type": "code",
      "source": [
        "nba.WESTERN_FINALIST = res2\n",
        "nba.head()"
      ],
      "metadata": {
        "id": "SZxL_Eg--3tm"
      },
      "execution_count": null,
      "outputs": []
    },
    {
      "cell_type": "code",
      "source": [
        "#Let's do the same with EASTERN!\n",
        "res3 = [team.split('(')[0].strip()\n",
        "        for team in nba.EASTERN_FINALIST]\n",
        "nba.EASTERN_FINALIST = res3\n",
        "nba.head()"
      ],
      "metadata": {
        "id": "cV9As0TN-3vv"
      },
      "execution_count": null,
      "outputs": []
    },
    {
      "cell_type": "code",
      "source": [
        "# create a column that indicates whether Eastern or Western is the champion\n",
        "nba['WINNER'] = ['Western' if x[0]=='4' else 'Eastern' for x in nba.RESULT]\n",
        "nba.head()"
      ],
      "metadata": {
        "id": "8ngthb70-3xr"
      },
      "execution_count": null,
      "outputs": []
    },
    {
      "cell_type": "code",
      "source": [
        "#throughout the NBA history, how many times the championship went Eastern and how many times went Western?\n",
        "nba.WINNER.value_counts()"
      ],
      "metadata": {
        "colab": {
          "base_uri": "https://localhost:8080/"
        },
        "id": "uo-PxTdl-30L",
        "outputId": "8089f2e6-338e-40c0-ec09-b1dd1771fde9"
      },
      "execution_count": null,
      "outputs": [
        {
          "output_type": "execute_result",
          "data": {
            "text/plain": [
              "Eastern    40\n",
              "Western    35\n",
              "Name: WINNER, dtype: int64"
            ]
          },
          "metadata": {},
          "execution_count": 58
        }
      ]
    },
    {
      "cell_type": "code",
      "source": [
        "print(nba[nba.WINNER=='Eastern'].shape[0])\n",
        "print(nba[nba.WINNER=='Western'].shape[0])"
      ],
      "metadata": {
        "colab": {
          "base_uri": "https://localhost:8080/"
        },
        "id": "w8CwWFC0CYnj",
        "outputId": "c467e1b0-a7e5-4acb-a484-d4819b8de11b"
      },
      "execution_count": null,
      "outputs": [
        {
          "output_type": "stream",
          "name": "stdout",
          "text": [
            "40\n",
            "35\n"
          ]
        }
      ]
    },
    {
      "cell_type": "code",
      "source": [
        "nba[nba.WESTERN_COACH.str.contains('Pop') |\n",
        "    nba.EASTERN_COACH.str.contains('Pop')]                #shift+\\ = |"
      ],
      "metadata": {
        "id": "spvGpC2lCYp0"
      },
      "execution_count": null,
      "outputs": []
    },
    {
      "cell_type": "code",
      "source": [
        "#for 3 times, prompt the user to enter year and return the team that won the championship\n",
        "year = int(input('Enter a year: '))                                         # prompting user to insert a year\n",
        "filter = nba.YEAR==year                                                     # this is the condition\n",
        "west = nba.WESTERN_FINALIST[filter].values[0]                               # the team of the west in the specific year\n",
        "east = nba.EASTERN_FINALIST[filter].values[0]                               # the team of the east in the specific year\n",
        "west if str(nba.WINNER[filter].values[0])=='Western' else east              # west or east depends on the winner, values를 써줘야 하는 이유는 그래야 string끼리 비교가 되기 때문."
      ],
      "metadata": {
        "colab": {
          "base_uri": "https://localhost:8080/",
          "height": 54
        },
        "id": "1ZwH2kSfCYrz",
        "outputId": "6d2046b4-d974-4f52-a3a4-4ab1de98da09"
      },
      "execution_count": null,
      "outputs": [
        {
          "name": "stdout",
          "output_type": "stream",
          "text": [
            "Enter a year: 1999\n"
          ]
        },
        {
          "output_type": "execute_result",
          "data": {
            "application/vnd.google.colaboratory.intrinsic+json": {
              "type": "string"
            },
            "text/plain": [
              "'San Antonio Spurs'"
            ]
          },
          "metadata": {},
          "execution_count": 73
        }
      ]
    },
    {
      "cell_type": "code",
      "source": [
        "nba.WESTERN_FINALIST[nba.YEAR==2020].values[0]        #values[0]은 이름(value)만 나올 수 있도록 해줌"
      ],
      "metadata": {
        "colab": {
          "base_uri": "https://localhost:8080/",
          "height": 35
        },
        "id": "RW_abxTYCYwD",
        "outputId": "c7d7259e-5674-4715-a656-84cf91df31b4"
      },
      "execution_count": null,
      "outputs": [
        {
          "output_type": "execute_result",
          "data": {
            "application/vnd.google.colaboratory.intrinsic+json": {
              "type": "string"
            },
            "text/plain": [
              "'Los Angeles Lakers'"
            ]
          },
          "metadata": {},
          "execution_count": 74
        }
      ]
    },
    {
      "cell_type": "code",
      "source": [
        "#practice for practice\n",
        "L=['        hello there', 'South     Korea', 'United States   ']\n",
        "[each.upper() for each in L]"
      ],
      "metadata": {
        "colab": {
          "base_uri": "https://localhost:8080/"
        },
        "id": "k94sCh9_4ekz",
        "outputId": "bb3a5a11-fa9f-4949-895e-980ce8b9808f"
      },
      "execution_count": null,
      "outputs": [
        {
          "output_type": "execute_result",
          "data": {
            "text/plain": [
              "['        HELLO THERE', 'SOUTH     KOREA', 'UNITED STATES   ']"
            ]
          },
          "metadata": {},
          "execution_count": 18
        }
      ]
    },
    {
      "cell_type": "code",
      "source": [
        "[each.upper().replace(' ', '_') for each in L]"
      ],
      "metadata": {
        "colab": {
          "base_uri": "https://localhost:8080/"
        },
        "id": "jx9PAnj34-Os",
        "outputId": "9e1280b6-292a-4683-c007-ff368db6682d"
      },
      "execution_count": null,
      "outputs": [
        {
          "output_type": "execute_result",
          "data": {
            "text/plain": [
              "['________HELLO_THERE', 'SOUTH_____KOREA', 'UNITED_STATES___']"
            ]
          },
          "metadata": {},
          "execution_count": 19
        }
      ]
    },
    {
      "cell_type": "code",
      "source": [
        "import re\n",
        "re.sub('\\s', '_', 'South     Korea')"
      ],
      "metadata": {
        "colab": {
          "base_uri": "https://localhost:8080/",
          "height": 35
        },
        "id": "CbWFMEAq5HCT",
        "outputId": "7d061a16-c06c-4169-eda9-d8e6ec33f2ec"
      },
      "execution_count": null,
      "outputs": [
        {
          "output_type": "execute_result",
          "data": {
            "application/vnd.google.colaboratory.intrinsic+json": {
              "type": "string"
            },
            "text/plain": [
              "'South_____Korea'"
            ]
          },
          "metadata": {},
          "execution_count": 22
        }
      ]
    },
    {
      "cell_type": "code",
      "source": [
        "re.sub('\\s+', '_', 'South     Korea')"
      ],
      "metadata": {
        "colab": {
          "base_uri": "https://localhost:8080/",
          "height": 35
        },
        "id": "9CXOkpJx5erj",
        "outputId": "233426c2-ac10-48a4-c6c5-5ecf71e53112"
      },
      "execution_count": null,
      "outputs": [
        {
          "output_type": "execute_result",
          "data": {
            "application/vnd.google.colaboratory.intrinsic+json": {
              "type": "string"
            },
            "text/plain": [
              "'South_Korea'"
            ]
          },
          "metadata": {},
          "execution_count": 23
        }
      ]
    },
    {
      "cell_type": "code",
      "source": [
        "L=['        hello there', 'South     Korea', 'United States   ']\n",
        "[re.sub('\\s+', '_', each.upper()).strip('_') for each in L]   #strip은 앞뒤 underscore 없애주는 역할. 인자로 전달된 문자를 String의 왼쪽과 오른쪽에서 제거합니다."
      ],
      "metadata": {
        "colab": {
          "base_uri": "https://localhost:8080/"
        },
        "id": "IV-SSGQR5t3j",
        "outputId": "d475f556-0239-4dc9-8a28-2ed1cb520f86"
      },
      "execution_count": null,
      "outputs": [
        {
          "output_type": "execute_result",
          "data": {
            "text/plain": [
              "['HELLO_THERE', 'SOUTH_KOREA', 'UNITED_STATES']"
            ]
          },
          "metadata": {},
          "execution_count": 24
        }
      ]
    },
    {
      "cell_type": "code",
      "source": [
        "text = 'Hello my students! Lee@magnimind.edu, and kim email is kim.Lee@kaist.edu jim@xyz.com and max max_joe@xyy.co.kr and jisu@aaa.co.xyz.kr and me@me.com.'\n",
        "\n",
        "import string\n",
        "res = re.findall('\\S+@\\S+', text)   #소문자 s는 whitespace 문자와 매치, 대문자 S는 space 아닌 문자와 매치\n",
        "res = [each.strip(string.punctuation) for each in res]\n",
        "res"
      ],
      "metadata": {
        "colab": {
          "base_uri": "https://localhost:8080/"
        },
        "id": "wRLctviw6E47",
        "outputId": "99f3be43-b2fe-4bb7-ceae-52a910dbcfa8"
      },
      "execution_count": null,
      "outputs": [
        {
          "output_type": "execute_result",
          "data": {
            "text/plain": [
              "['Lee@magnimind.edu',\n",
              " 'kim.Lee@kaist.edu',\n",
              " 'jim@xyz.com',\n",
              " 'max_joe@xyy.co.kr',\n",
              " 'jisu@aaa.co.xyz.kr',\n",
              " 'me@me.com']"
            ]
          },
          "metadata": {},
          "execution_count": 30
        }
      ]
    },
    {
      "cell_type": "code",
      "source": [
        "text = 'apple $5.6 and pear is $6.09 and max lives in 222 xyz st in Seoul!'\n",
        "sum([float(n) for n in re.findall('\\$([\\d\\.]+)', text)])"
      ],
      "metadata": {
        "colab": {
          "base_uri": "https://localhost:8080/"
        },
        "id": "JqrNzON_7a8c",
        "outputId": "8f90a967-49d4-433e-e194-43d008baf78d"
      },
      "execution_count": null,
      "outputs": [
        {
          "output_type": "execute_result",
          "data": {
            "text/plain": [
              "11.69"
            ]
          },
          "metadata": {},
          "execution_count": 33
        }
      ]
    },
    {
      "cell_type": "code",
      "source": [
        "text = 'heo there and heeooeleollo there and helloooooo '             # +: one or more, *: zero or more\n",
        "re.findall('h[elo]+\\s', text)"
      ],
      "metadata": {
        "colab": {
          "base_uri": "https://localhost:8080/"
        },
        "id": "vbNOQGyw9QFq",
        "outputId": "a52ea519-1e69-4fd5-f10c-497bb29ea27d"
      },
      "execution_count": null,
      "outputs": [
        {
          "output_type": "execute_result",
          "data": {
            "text/plain": [
              "['heo ', 'heeooeleollo ', 'helloooooo ']"
            ]
          },
          "metadata": {},
          "execution_count": 37
        }
      ]
    },
    {
      "cell_type": "code",
      "source": [
        "##Covid Data\n",
        "import pandas as pd\n",
        "base = 'https://github.com/CSSEGISandData/COVID-19/blob/master/csse_covid_19_data/csse_covid_19_time_series/'\n",
        "file_confirmed = base+'time_series_covid19_confirmed_global.csv'\n",
        "covid = pd.read_html(file_confirmed)[0]\n",
        "display(covid.head())"
      ],
      "metadata": {
        "colab": {
          "base_uri": "https://localhost:8080/",
          "height": 206
        },
        "id": "gnxjtRShKUpL",
        "outputId": "14405cdd-c701-49ca-d2cb-3a8b48118330"
      },
      "execution_count": null,
      "outputs": [
        {
          "output_type": "display_data",
          "data": {
            "text/html": [
              "\n",
              "  <div id=\"df-822ef53e-337e-40c5-8fac-1da7f792645c\">\n",
              "    <div class=\"colab-df-container\">\n",
              "      <div>\n",
              "<style scoped>\n",
              "    .dataframe tbody tr th:only-of-type {\n",
              "        vertical-align: middle;\n",
              "    }\n",
              "\n",
              "    .dataframe tbody tr th {\n",
              "        vertical-align: top;\n",
              "    }\n",
              "\n",
              "    .dataframe thead th {\n",
              "        text-align: right;\n",
              "    }\n",
              "</style>\n",
              "<table border=\"1\" class=\"dataframe\">\n",
              "  <thead>\n",
              "    <tr style=\"text-align: right;\">\n",
              "      <th></th>\n",
              "      <th>0</th>\n",
              "      <th>1</th>\n",
              "    </tr>\n",
              "  </thead>\n",
              "  <tbody>\n",
              "    <tr>\n",
              "      <th>0</th>\n",
              "      <td>NaN</td>\n",
              "      <td>Province/State,Country/Region,Lat,Long,1/22/20...</td>\n",
              "    </tr>\n",
              "    <tr>\n",
              "      <th>1</th>\n",
              "      <td>NaN</td>\n",
              "      <td>,Afghanistan,33.93911,67.709953,0,0,0,0,0,0,0,...</td>\n",
              "    </tr>\n",
              "    <tr>\n",
              "      <th>2</th>\n",
              "      <td>NaN</td>\n",
              "      <td>,Albania,41.1533,20.1683,0,0,0,0,0,0,0,0,0,0,0...</td>\n",
              "    </tr>\n",
              "    <tr>\n",
              "      <th>3</th>\n",
              "      <td>NaN</td>\n",
              "      <td>,Algeria,28.0339,1.6596,0,0,0,0,0,0,0,0,0,0,0,...</td>\n",
              "    </tr>\n",
              "    <tr>\n",
              "      <th>4</th>\n",
              "      <td>NaN</td>\n",
              "      <td>,Andorra,42.5063,1.5218,0,0,0,0,0,0,0,0,0,0,0,...</td>\n",
              "    </tr>\n",
              "  </tbody>\n",
              "</table>\n",
              "</div>\n",
              "      <button class=\"colab-df-convert\" onclick=\"convertToInteractive('df-822ef53e-337e-40c5-8fac-1da7f792645c')\"\n",
              "              title=\"Convert this dataframe to an interactive table.\"\n",
              "              style=\"display:none;\">\n",
              "        \n",
              "  <svg xmlns=\"http://www.w3.org/2000/svg\" height=\"24px\"viewBox=\"0 0 24 24\"\n",
              "       width=\"24px\">\n",
              "    <path d=\"M0 0h24v24H0V0z\" fill=\"none\"/>\n",
              "    <path d=\"M18.56 5.44l.94 2.06.94-2.06 2.06-.94-2.06-.94-.94-2.06-.94 2.06-2.06.94zm-11 1L8.5 8.5l.94-2.06 2.06-.94-2.06-.94L8.5 2.5l-.94 2.06-2.06.94zm10 10l.94 2.06.94-2.06 2.06-.94-2.06-.94-.94-2.06-.94 2.06-2.06.94z\"/><path d=\"M17.41 7.96l-1.37-1.37c-.4-.4-.92-.59-1.43-.59-.52 0-1.04.2-1.43.59L10.3 9.45l-7.72 7.72c-.78.78-.78 2.05 0 2.83L4 21.41c.39.39.9.59 1.41.59.51 0 1.02-.2 1.41-.59l7.78-7.78 2.81-2.81c.8-.78.8-2.07 0-2.86zM5.41 20L4 18.59l7.72-7.72 1.47 1.35L5.41 20z\"/>\n",
              "  </svg>\n",
              "      </button>\n",
              "      \n",
              "  <style>\n",
              "    .colab-df-container {\n",
              "      display:flex;\n",
              "      flex-wrap:wrap;\n",
              "      gap: 12px;\n",
              "    }\n",
              "\n",
              "    .colab-df-convert {\n",
              "      background-color: #E8F0FE;\n",
              "      border: none;\n",
              "      border-radius: 50%;\n",
              "      cursor: pointer;\n",
              "      display: none;\n",
              "      fill: #1967D2;\n",
              "      height: 32px;\n",
              "      padding: 0 0 0 0;\n",
              "      width: 32px;\n",
              "    }\n",
              "\n",
              "    .colab-df-convert:hover {\n",
              "      background-color: #E2EBFA;\n",
              "      box-shadow: 0px 1px 2px rgba(60, 64, 67, 0.3), 0px 1px 3px 1px rgba(60, 64, 67, 0.15);\n",
              "      fill: #174EA6;\n",
              "    }\n",
              "\n",
              "    [theme=dark] .colab-df-convert {\n",
              "      background-color: #3B4455;\n",
              "      fill: #D2E3FC;\n",
              "    }\n",
              "\n",
              "    [theme=dark] .colab-df-convert:hover {\n",
              "      background-color: #434B5C;\n",
              "      box-shadow: 0px 1px 3px 1px rgba(0, 0, 0, 0.15);\n",
              "      filter: drop-shadow(0px 1px 2px rgba(0, 0, 0, 0.3));\n",
              "      fill: #FFFFFF;\n",
              "    }\n",
              "  </style>\n",
              "\n",
              "      <script>\n",
              "        const buttonEl =\n",
              "          document.querySelector('#df-822ef53e-337e-40c5-8fac-1da7f792645c button.colab-df-convert');\n",
              "        buttonEl.style.display =\n",
              "          google.colab.kernel.accessAllowed ? 'block' : 'none';\n",
              "\n",
              "        async function convertToInteractive(key) {\n",
              "          const element = document.querySelector('#df-822ef53e-337e-40c5-8fac-1da7f792645c');\n",
              "          const dataTable =\n",
              "            await google.colab.kernel.invokeFunction('convertToInteractive',\n",
              "                                                     [key], {});\n",
              "          if (!dataTable) return;\n",
              "\n",
              "          const docLinkHtml = 'Like what you see? Visit the ' +\n",
              "            '<a target=\"_blank\" href=https://colab.research.google.com/notebooks/data_table.ipynb>data table notebook</a>'\n",
              "            + ' to learn more about interactive tables.';\n",
              "          element.innerHTML = '';\n",
              "          dataTable['output_type'] = 'display_data';\n",
              "          await google.colab.output.renderOutput(dataTable, element);\n",
              "          const docLink = document.createElement('div');\n",
              "          docLink.innerHTML = docLinkHtml;\n",
              "          element.appendChild(docLink);\n",
              "        }\n",
              "      </script>\n",
              "    </div>\n",
              "  </div>\n",
              "  "
            ],
            "text/plain": [
              "    0                                                  1\n",
              "0 NaN  Province/State,Country/Region,Lat,Long,1/22/20...\n",
              "1 NaN  ,Afghanistan,33.93911,67.709953,0,0,0,0,0,0,0,...\n",
              "2 NaN  ,Albania,41.1533,20.1683,0,0,0,0,0,0,0,0,0,0,0...\n",
              "3 NaN  ,Algeria,28.0339,1.6596,0,0,0,0,0,0,0,0,0,0,0,...\n",
              "4 NaN  ,Andorra,42.5063,1.5218,0,0,0,0,0,0,0,0,0,0,0,..."
            ]
          },
          "metadata": {}
        }
      ]
    },
    {
      "cell_type": "code",
      "source": [
        "covid.columns"
      ],
      "metadata": {
        "colab": {
          "base_uri": "https://localhost:8080/"
        },
        "id": "sqDbd0qFKUrr",
        "outputId": "98375141-d6af-4fba-bf60-0715dbdfb2df"
      },
      "execution_count": null,
      "outputs": [
        {
          "output_type": "execute_result",
          "data": {
            "text/plain": [
              "Int64Index([0, 1], dtype='int64')"
            ]
          },
          "metadata": {},
          "execution_count": 80
        }
      ]
    },
    {
      "cell_type": "code",
      "source": [
        "cols = covid.iloc[0,1].split(',')\n",
        "print(cols)"
      ],
      "metadata": {
        "colab": {
          "base_uri": "https://localhost:8080/"
        },
        "id": "jVOnrJFrKUt8",
        "outputId": "0eec3306-cf9b-45de-bbad-9b16094b61ee"
      },
      "execution_count": null,
      "outputs": [
        {
          "output_type": "stream",
          "name": "stdout",
          "text": [
            "['Province/State', 'Country/Region', 'Lat', 'Long', '1/22/20', '1/23/20', '1/24/20', '1/25/20', '1/26/20', '1/27/20', '1/28/20', '1/29/20', '1/30/20', '1/31/20', '2/1/20', '2/2/20', '2/3/20', '2/4/20', '2/5/20', '2/6/20', '2/7/20', '2/8/20', '2/9/20', '2/10/20', '2/11/20', '2/12/20', '2/13/20', '2/14/20', '2/15/20', '2/16/20', '2/17/20', '2/18/20', '2/19/20', '2/20/20', '2/21/20', '2/22/20', '2/23/20', '2/24/20', '2/25/20', '2/26/20', '2/27/20', '2/28/20', '2/29/20', '3/1/20', '3/2/20', '3/3/20', '3/4/20', '3/5/20', '3/6/20', '3/7/20', '3/8/20', '3/9/20', '3/10/20', '3/11/20', '3/12/20', '3/13/20', '3/14/20', '3/15/20', '3/16/20', '3/17/20', '3/18/20', '3/19/20', '3/20/20', '3/21/20', '3/22/20', '3/23/20', '3/24/20', '3/25/20', '3/26/20', '3/27/20', '3/28/20', '3/29/20', '3/30/20', '3/31/20', '4/1/20', '4/2/20', '4/3/20', '4/4/20', '4/5/20', '4/6/20', '4/7/20', '4/8/20', '4/9/20', '4/10/20', '4/11/20', '4/12/20', '4/13/20', '4/14/20', '4/15/20', '4/16/20', '4/17/20', '4/18/20', '4/19/20', '4/20/20', '4/21/20', '4/22/20', '4/23/20', '4/24/20', '4/25/20', '4/26/20', '4/27/20', '4/28/20', '4/29/20', '4/30/20', '5/1/20', '5/2/20', '5/3/20', '5/4/20', '5/5/20', '5/6/20', '5/7/20', '5/8/20', '5/9/20', '5/10/20', '5/11/20', '5/12/20', '5/13/20', '5/14/20', '5/15/20', '5/16/20', '5/17/20', '5/18/20', '5/19/20', '5/20/20', '5/21/20', '5/22/20', '5/23/20', '5/24/20', '5/25/20', '5/26/20', '5/27/20', '5/28/20', '5/29/20', '5/30/20', '5/31/20', '6/1/20', '6/2/20', '6/3/20', '6/4/20', '6/5/20', '6/6/20', '6/7/20', '6/8/20', '6/9/20', '6/10/20', '6/11/20', '6/12/20', '6/13/20', '6/14/20', '6/15/20', '6/16/20', '6/17/20', '6/18/20', '6/19/20', '6/20/20', '6/21/20', '6/22/20', '6/23/20', '6/24/20', '6/25/20', '6/26/20', '6/27/20', '6/28/20', '6/29/20', '6/30/20', '7/1/20', '7/2/20', '7/3/20', '7/4/20', '7/5/20', '7/6/20', '7/7/20', '7/8/20', '7/9/20', '7/10/20', '7/11/20', '7/12/20', '7/13/20', '7/14/20', '7/15/20', '7/16/20', '7/17/20', '7/18/20', '7/19/20', '7/20/20', '7/21/20', '7/22/20', '7/23/20', '7/24/20', '7/25/20', '7/26/20', '7/27/20', '7/28/20', '7/29/20', '7/30/20', '7/31/20', '8/1/20', '8/2/20', '8/3/20', '8/4/20', '8/5/20', '8/6/20', '8/7/20', '8/8/20', '8/9/20', '8/10/20', '8/11/20', '8/12/20', '8/13/20', '8/14/20', '8/15/20', '8/16/20', '8/17/20', '8/18/20', '8/19/20', '8/20/20', '8/21/20', '8/22/20', '8/23/20', '8/24/20', '8/25/20', '8/26/20', '8/27/20', '8/28/20', '8/29/20', '8/30/20', '8/31/20', '9/1/20', '9/2/20', '9/3/20', '9/4/20', '9/5/20', '9/6/20', '9/7/20', '9/8/20', '9/9/20', '9/10/20', '9/11/20', '9/12/20', '9/13/20', '9/14/20', '9/15/20', '9/16/20', '9/17/20', '9/18/20', '9/19/20', '9/20/20', '9/21/20', '9/22/20', '9/23/20', '9/24/20', '9/25/20', '9/26/20', '9/27/20', '9/28/20', '9/29/20', '9/30/20', '10/1/20', '10/2/20', '10/3/20', '10/4/20', '10/5/20', '10/6/20', '10/7/20', '10/8/20', '10/9/20', '10/10/20', '10/11/20', '10/12/20', '10/13/20', '10/14/20', '10/15/20', '10/16/20', '10/17/20', '10/18/20', '10/19/20', '10/20/20', '10/21/20', '10/22/20', '10/23/20', '10/24/20', '10/25/20', '10/26/20', '10/27/20', '10/28/20', '10/29/20', '10/30/20', '10/31/20', '11/1/20', '11/2/20', '11/3/20', '11/4/20', '11/5/20', '11/6/20', '11/7/20', '11/8/20', '11/9/20', '11/10/20', '11/11/20', '11/12/20', '11/13/20', '11/14/20', '11/15/20', '11/16/20', '11/17/20', '11/18/20', '11/19/20', '11/20/20', '11/21/20', '11/22/20', '11/23/20', '11/24/20', '11/25/20', '11/26/20', '11/27/20', '11/28/20', '11/29/20', '11/30/20', '12/1/20', '12/2/20', '12/3/20', '12/4/20', '12/5/20', '12/6/20', '12/7/20', '12/8/20', '12/9/20', '12/10/20', '12/11/20', '12/12/20', '12/13/20', '12/14/20', '12/15/20', '12/16/20', '12/17/20', '12/18/20', '12/19/20', '12/20/20', '12/21/20', '12/22/20', '12/23/20', '12/24/20', '12/25/20', '12/26/20', '12/27/20', '12/28/20', '12/29/20', '12/30/20', '12/31/20', '1/1/21', '1/2/21', '1/3/21', '1/4/21', '1/5/21', '1/6/21', '1/7/21', '1/8/21', '1/9/21', '1/10/21', '1/11/21', '1/12/21', '1/13/21', '1/14/21', '1/15/21', '1/16/21', '1/17/21', '1/18/21', '1/19/21', '1/20/21', '1/21/21', '1/22/21', '1/23/21', '1/24/21', '1/25/21', '1/26/21', '1/27/21', '1/28/21', '1/29/21', '1/30/21', '1/31/21', '2/1/21', '2/2/21', '2/3/21', '2/4/21', '2/5/21', '2/6/21', '2/7/21', '2/8/21', '2/9/21', '2/10/21', '2/11/21', '2/12/21', '2/13/21', '2/14/21', '2/15/21', '2/16/21', '2/17/21', '2/18/21', '2/19/21', '2/20/21', '2/21/21', '2/22/21', '2/23/21', '2/24/21', '2/25/21', '2/26/21', '2/27/21', '2/28/21', '3/1/21', '3/2/21', '3/3/21', '3/4/21', '3/5/21', '3/6/21', '3/7/21', '3/8/21', '3/9/21', '3/10/21', '3/11/21', '3/12/21', '3/13/21', '3/14/21', '3/15/21', '3/16/21', '3/17/21', '3/18/21', '3/19/21', '3/20/21', '3/21/21', '3/22/21', '3/23/21', '3/24/21', '3/25/21', '3/26/21', '3/27/21', '3/28/21', '3/29/21', '3/30/21', '3/31/21', '4/1/21', '4/2/21', '4/3/21', '4/4/21', '4/5/21', '4/6/21', '4/7/21', '4/8/21', '4/9/21', '4/10/21', '4/11/21', '4/12/21', '4/13/21', '4/14/21', '4/15/21', '4/16/21', '4/17/21', '4/18/21', '4/19/21', '4/20/21', '4/21/21', '4/22/21', '4/23/21', '4/24/21', '4/25/21', '4/26/21', '4/27/21', '4/28/21', '4/29/21', '4/30/21', '5/1/21', '5/2/21', '5/3/21', '5/4/21', '5/5/21', '5/6/21', '5/7/21', '5/8/21', '5/9/21', '5/10/21', '5/11/21', '5/12/21', '5/13/21', '5/14/21', '5/15/21', '5/16/21', '5/17/21', '5/18/21', '5/19/21', '5/20/21', '5/21/21', '5/22/21', '5/23/21', '5/24/21', '5/25/21', '5/26/21', '5/27/21', '5/28/21', '5/29/21', '5/30/21', '5/31/21', '6/1/21', '6/2/21', '6/3/21', '6/4/21', '6/5/21', '6/6/21', '6/7/21', '6/8/21', '6/9/21', '6/10/21', '6/11/21', '6/12/21', '6/13/21', '6/14/21', '6/15/21', '6/16/21', '6/17/21', '6/18/21', '6/19/21', '6/20/21', '6/21/21', '6/22/21', '6/23/21', '6/24/21', '6/25/21', '6/26/21', '6/27/21', '6/28/21', '6/29/21', '6/30/21', '7/1/21', '7/2/21', '7/3/21', '7/4/21', '7/5/21', '7/6/21', '7/7/21', '7/8/21', '7/9/21', '7/10/21', '7/11/21', '7/12/21', '7/13/21', '7/14/21', '7/15/21', '7/16/21', '7/17/21', '7/18/21', '7/19/21', '7/20/21', '7/21/21', '7/22/21', '7/23/21', '7/24/21', '7/25/21', '7/26/21', '7/27/21', '7/28/21', '7/29/21', '7/30/21', '7/31/21', '8/1/21', '8/2/21', '8/3/21', '8/4/21', '8/5/21', '8/6/21', '8/7/21', '8/8/21', '8/9/21', '8/10/21', '8/11/21', '8/12/21', '8/13/21', '8/14/21', '8/15/21', '8/16/21', '8/17/21', '8/18/21', '8/19/21', '8/20/21', '8/21/21', '8/22/21', '8/23/21', '8/24/21', '8/25/21', '8/26/21', '8/27/21', '8/28/21', '8/29/21', '8/30/21', '8/31/21', '9/1/21', '9/2/21', '9/3/21', '9/4/21', '9/5/21', '9/6/21', '9/7/21', '9/8/21', '9/9/21', '9/10/21', '9/11/21', '9/12/21', '9/13/21', '9/14/21', '9/15/21', '9/16/21', '9/17/21', '9/18/21', '9/19/21', '9/20/21', '9/21/21', '9/22/21', '9/23/21', '9/24/21', '9/25/21', '9/26/21', '9/27/21', '9/28/21', '9/29/21', '9/30/21', '10/1/21', '10/2/21', '10/3/21', '10/4/21', '10/5/21', '10/6/21', '10/7/21', '10/8/21', '10/9/21', '10/10/21', '10/11/21', '10/12/21', '10/13/21', '10/14/21', '10/15/21', '10/16/21', '10/17/21', '10/18/21', '10/19/21', '10/20/21', '10/21/21', '10/22/21', '10/23/21', '10/24/21', '10/25/21', '10/26/21', '10/27/21', '10/28/21', '10/29/21', '10/30/21', '10/31/21', '11/1/21', '11/2/21', '11/3/21', '11/4/21', '11/5/21', '11/6/21', '11/7/21', '11/8/21', '11/9/21', '11/10/21', '11/11/21', '11/12/21', '11/13/21', '11/14/21', '11/15/21', '11/16/21', '11/17/21', '11/18/21', '11/19/21', '11/20/21', '11/21/21', '11/22/21', '11/23/21', '11/24/21', '11/25/21', '11/26/21', '11/27/21', '11/28/21', '11/29/21', '11/30/21', '12/1/21', '12/2/21', '12/3/21', '12/4/21', '12/5/21', '12/6/21', '12/7/21', '12/8/21', '12/9/21', '12/10/21', '12/11/21', '12/12/21', '12/13/21', '12/14/21', '12/15/21', '12/16/21', '12/17/21', '12/18/21', '12/19/21', '12/20/21', '12/21/21', '12/22/21', '12/23/21', '12/24/21', '12/25/21', '12/26/21', '12/27/21', '12/28/21', '12/29/21', '12/30/21', '12/31/21', '1/1/22', '1/2/22', '1/3/22']\n"
          ]
        }
      ]
    },
    {
      "cell_type": "code",
      "source": [
        "data = pd.DataFrame(columns=cols)\n",
        "for i in range(1, covid.shape[0]):\n",
        "    ddd = covid.iloc[i,1].split(',')\n",
        "    ddd=ddd[0:len(cols)]\n",
        "    data.loc[data.shape[0]] = ddd\n",
        "data.head()"
      ],
      "metadata": {
        "colab": {
          "base_uri": "https://localhost:8080/",
          "height": 300
        },
        "id": "1lq6ljHcKUwd",
        "outputId": "4ae22159-44d6-482f-8a5f-535fdc08d93b"
      },
      "execution_count": null,
      "outputs": [
        {
          "output_type": "execute_result",
          "data": {
            "text/html": [
              "\n",
              "  <div id=\"df-54aed971-6a03-479c-ac9f-56cd6fd54ee9\">\n",
              "    <div class=\"colab-df-container\">\n",
              "      <div>\n",
              "<style scoped>\n",
              "    .dataframe tbody tr th:only-of-type {\n",
              "        vertical-align: middle;\n",
              "    }\n",
              "\n",
              "    .dataframe tbody tr th {\n",
              "        vertical-align: top;\n",
              "    }\n",
              "\n",
              "    .dataframe thead th {\n",
              "        text-align: right;\n",
              "    }\n",
              "</style>\n",
              "<table border=\"1\" class=\"dataframe\">\n",
              "  <thead>\n",
              "    <tr style=\"text-align: right;\">\n",
              "      <th></th>\n",
              "      <th>Province/State</th>\n",
              "      <th>Country/Region</th>\n",
              "      <th>Lat</th>\n",
              "      <th>Long</th>\n",
              "      <th>1/22/20</th>\n",
              "      <th>1/23/20</th>\n",
              "      <th>1/24/20</th>\n",
              "      <th>1/25/20</th>\n",
              "      <th>1/26/20</th>\n",
              "      <th>1/27/20</th>\n",
              "      <th>1/28/20</th>\n",
              "      <th>1/29/20</th>\n",
              "      <th>1/30/20</th>\n",
              "      <th>1/31/20</th>\n",
              "      <th>2/1/20</th>\n",
              "      <th>2/2/20</th>\n",
              "      <th>2/3/20</th>\n",
              "      <th>2/4/20</th>\n",
              "      <th>2/5/20</th>\n",
              "      <th>2/6/20</th>\n",
              "      <th>2/7/20</th>\n",
              "      <th>2/8/20</th>\n",
              "      <th>2/9/20</th>\n",
              "      <th>2/10/20</th>\n",
              "      <th>2/11/20</th>\n",
              "      <th>2/12/20</th>\n",
              "      <th>2/13/20</th>\n",
              "      <th>2/14/20</th>\n",
              "      <th>2/15/20</th>\n",
              "      <th>2/16/20</th>\n",
              "      <th>2/17/20</th>\n",
              "      <th>2/18/20</th>\n",
              "      <th>2/19/20</th>\n",
              "      <th>2/20/20</th>\n",
              "      <th>2/21/20</th>\n",
              "      <th>2/22/20</th>\n",
              "      <th>2/23/20</th>\n",
              "      <th>2/24/20</th>\n",
              "      <th>2/25/20</th>\n",
              "      <th>2/26/20</th>\n",
              "      <th>...</th>\n",
              "      <th>11/25/21</th>\n",
              "      <th>11/26/21</th>\n",
              "      <th>11/27/21</th>\n",
              "      <th>11/28/21</th>\n",
              "      <th>11/29/21</th>\n",
              "      <th>11/30/21</th>\n",
              "      <th>12/1/21</th>\n",
              "      <th>12/2/21</th>\n",
              "      <th>12/3/21</th>\n",
              "      <th>12/4/21</th>\n",
              "      <th>12/5/21</th>\n",
              "      <th>12/6/21</th>\n",
              "      <th>12/7/21</th>\n",
              "      <th>12/8/21</th>\n",
              "      <th>12/9/21</th>\n",
              "      <th>12/10/21</th>\n",
              "      <th>12/11/21</th>\n",
              "      <th>12/12/21</th>\n",
              "      <th>12/13/21</th>\n",
              "      <th>12/14/21</th>\n",
              "      <th>12/15/21</th>\n",
              "      <th>12/16/21</th>\n",
              "      <th>12/17/21</th>\n",
              "      <th>12/18/21</th>\n",
              "      <th>12/19/21</th>\n",
              "      <th>12/20/21</th>\n",
              "      <th>12/21/21</th>\n",
              "      <th>12/22/21</th>\n",
              "      <th>12/23/21</th>\n",
              "      <th>12/24/21</th>\n",
              "      <th>12/25/21</th>\n",
              "      <th>12/26/21</th>\n",
              "      <th>12/27/21</th>\n",
              "      <th>12/28/21</th>\n",
              "      <th>12/29/21</th>\n",
              "      <th>12/30/21</th>\n",
              "      <th>12/31/21</th>\n",
              "      <th>1/1/22</th>\n",
              "      <th>1/2/22</th>\n",
              "      <th>1/3/22</th>\n",
              "    </tr>\n",
              "  </thead>\n",
              "  <tbody>\n",
              "    <tr>\n",
              "      <th>0</th>\n",
              "      <td></td>\n",
              "      <td>Afghanistan</td>\n",
              "      <td>33.93911</td>\n",
              "      <td>67.709953</td>\n",
              "      <td>0</td>\n",
              "      <td>0</td>\n",
              "      <td>0</td>\n",
              "      <td>0</td>\n",
              "      <td>0</td>\n",
              "      <td>0</td>\n",
              "      <td>0</td>\n",
              "      <td>0</td>\n",
              "      <td>0</td>\n",
              "      <td>0</td>\n",
              "      <td>0</td>\n",
              "      <td>0</td>\n",
              "      <td>0</td>\n",
              "      <td>0</td>\n",
              "      <td>0</td>\n",
              "      <td>0</td>\n",
              "      <td>0</td>\n",
              "      <td>0</td>\n",
              "      <td>0</td>\n",
              "      <td>0</td>\n",
              "      <td>0</td>\n",
              "      <td>0</td>\n",
              "      <td>0</td>\n",
              "      <td>0</td>\n",
              "      <td>0</td>\n",
              "      <td>0</td>\n",
              "      <td>0</td>\n",
              "      <td>0</td>\n",
              "      <td>0</td>\n",
              "      <td>0</td>\n",
              "      <td>0</td>\n",
              "      <td>0</td>\n",
              "      <td>0</td>\n",
              "      <td>5</td>\n",
              "      <td>5</td>\n",
              "      <td>5</td>\n",
              "      <td>...</td>\n",
              "      <td>157144</td>\n",
              "      <td>157171</td>\n",
              "      <td>157190</td>\n",
              "      <td>157218</td>\n",
              "      <td>157260</td>\n",
              "      <td>157289</td>\n",
              "      <td>157359</td>\n",
              "      <td>157387</td>\n",
              "      <td>157412</td>\n",
              "      <td>157431</td>\n",
              "      <td>157454</td>\n",
              "      <td>157499</td>\n",
              "      <td>157508</td>\n",
              "      <td>157542</td>\n",
              "      <td>157585</td>\n",
              "      <td>157603</td>\n",
              "      <td>157611</td>\n",
              "      <td>157633</td>\n",
              "      <td>157648</td>\n",
              "      <td>157660</td>\n",
              "      <td>157665</td>\n",
              "      <td>157725</td>\n",
              "      <td>157734</td>\n",
              "      <td>157745</td>\n",
              "      <td>157787</td>\n",
              "      <td>157797</td>\n",
              "      <td>157816</td>\n",
              "      <td>157841</td>\n",
              "      <td>157878</td>\n",
              "      <td>157887</td>\n",
              "      <td>157895</td>\n",
              "      <td>157951</td>\n",
              "      <td>157967</td>\n",
              "      <td>157998</td>\n",
              "      <td>158037</td>\n",
              "      <td>158056</td>\n",
              "      <td>158084</td>\n",
              "      <td>158107</td>\n",
              "      <td>158189</td>\n",
              "      <td>158183</td>\n",
              "    </tr>\n",
              "    <tr>\n",
              "      <th>1</th>\n",
              "      <td></td>\n",
              "      <td>Albania</td>\n",
              "      <td>41.1533</td>\n",
              "      <td>20.1683</td>\n",
              "      <td>0</td>\n",
              "      <td>0</td>\n",
              "      <td>0</td>\n",
              "      <td>0</td>\n",
              "      <td>0</td>\n",
              "      <td>0</td>\n",
              "      <td>0</td>\n",
              "      <td>0</td>\n",
              "      <td>0</td>\n",
              "      <td>0</td>\n",
              "      <td>0</td>\n",
              "      <td>0</td>\n",
              "      <td>0</td>\n",
              "      <td>0</td>\n",
              "      <td>0</td>\n",
              "      <td>0</td>\n",
              "      <td>0</td>\n",
              "      <td>0</td>\n",
              "      <td>0</td>\n",
              "      <td>0</td>\n",
              "      <td>0</td>\n",
              "      <td>0</td>\n",
              "      <td>0</td>\n",
              "      <td>0</td>\n",
              "      <td>0</td>\n",
              "      <td>0</td>\n",
              "      <td>0</td>\n",
              "      <td>0</td>\n",
              "      <td>0</td>\n",
              "      <td>0</td>\n",
              "      <td>0</td>\n",
              "      <td>0</td>\n",
              "      <td>0</td>\n",
              "      <td>0</td>\n",
              "      <td>0</td>\n",
              "      <td>0</td>\n",
              "      <td>...</td>\n",
              "      <td>198292</td>\n",
              "      <td>198732</td>\n",
              "      <td>199137</td>\n",
              "      <td>199555</td>\n",
              "      <td>199750</td>\n",
              "      <td>199945</td>\n",
              "      <td>200173</td>\n",
              "      <td>200639</td>\n",
              "      <td>201045</td>\n",
              "      <td>201402</td>\n",
              "      <td>201730</td>\n",
              "      <td>201902</td>\n",
              "      <td>202295</td>\n",
              "      <td>202641</td>\n",
              "      <td>202863</td>\n",
              "      <td>203215</td>\n",
              "      <td>203524</td>\n",
              "      <td>203787</td>\n",
              "      <td>203925</td>\n",
              "      <td>204301</td>\n",
              "      <td>204627</td>\n",
              "      <td>204928</td>\n",
              "      <td>205224</td>\n",
              "      <td>205549</td>\n",
              "      <td>205777</td>\n",
              "      <td>205897</td>\n",
              "      <td>206273</td>\n",
              "      <td>206616</td>\n",
              "      <td>206935</td>\n",
              "      <td>207221</td>\n",
              "      <td>207542</td>\n",
              "      <td>207709</td>\n",
              "      <td>207709</td>\n",
              "      <td>208352</td>\n",
              "      <td>208899</td>\n",
              "      <td>208899</td>\n",
              "      <td>210224</td>\n",
              "      <td>210224</td>\n",
              "      <td>210885</td>\n",
              "      <td>210885</td>\n",
              "    </tr>\n",
              "    <tr>\n",
              "      <th>2</th>\n",
              "      <td></td>\n",
              "      <td>Algeria</td>\n",
              "      <td>28.0339</td>\n",
              "      <td>1.6596</td>\n",
              "      <td>0</td>\n",
              "      <td>0</td>\n",
              "      <td>0</td>\n",
              "      <td>0</td>\n",
              "      <td>0</td>\n",
              "      <td>0</td>\n",
              "      <td>0</td>\n",
              "      <td>0</td>\n",
              "      <td>0</td>\n",
              "      <td>0</td>\n",
              "      <td>0</td>\n",
              "      <td>0</td>\n",
              "      <td>0</td>\n",
              "      <td>0</td>\n",
              "      <td>0</td>\n",
              "      <td>0</td>\n",
              "      <td>0</td>\n",
              "      <td>0</td>\n",
              "      <td>0</td>\n",
              "      <td>0</td>\n",
              "      <td>0</td>\n",
              "      <td>0</td>\n",
              "      <td>0</td>\n",
              "      <td>0</td>\n",
              "      <td>0</td>\n",
              "      <td>0</td>\n",
              "      <td>0</td>\n",
              "      <td>0</td>\n",
              "      <td>0</td>\n",
              "      <td>0</td>\n",
              "      <td>0</td>\n",
              "      <td>0</td>\n",
              "      <td>0</td>\n",
              "      <td>0</td>\n",
              "      <td>1</td>\n",
              "      <td>1</td>\n",
              "      <td>...</td>\n",
              "      <td>209624</td>\n",
              "      <td>209817</td>\n",
              "      <td>209980</td>\n",
              "      <td>210152</td>\n",
              "      <td>210344</td>\n",
              "      <td>210531</td>\n",
              "      <td>210723</td>\n",
              "      <td>210921</td>\n",
              "      <td>211112</td>\n",
              "      <td>211297</td>\n",
              "      <td>211469</td>\n",
              "      <td>211662</td>\n",
              "      <td>211859</td>\n",
              "      <td>212047</td>\n",
              "      <td>212224</td>\n",
              "      <td>212434</td>\n",
              "      <td>212652</td>\n",
              "      <td>212848</td>\n",
              "      <td>213058</td>\n",
              "      <td>213288</td>\n",
              "      <td>213533</td>\n",
              "      <td>213745</td>\n",
              "      <td>214044</td>\n",
              "      <td>214330</td>\n",
              "      <td>214592</td>\n",
              "      <td>214835</td>\n",
              "      <td>215145</td>\n",
              "      <td>215430</td>\n",
              "      <td>215723</td>\n",
              "      <td>216098</td>\n",
              "      <td>216376</td>\n",
              "      <td>216637</td>\n",
              "      <td>216930</td>\n",
              "      <td>217265</td>\n",
              "      <td>217647</td>\n",
              "      <td>218037</td>\n",
              "      <td>218432</td>\n",
              "      <td>218818</td>\n",
              "      <td>219159</td>\n",
              "      <td>219532</td>\n",
              "    </tr>\n",
              "    <tr>\n",
              "      <th>3</th>\n",
              "      <td></td>\n",
              "      <td>Andorra</td>\n",
              "      <td>42.5063</td>\n",
              "      <td>1.5218</td>\n",
              "      <td>0</td>\n",
              "      <td>0</td>\n",
              "      <td>0</td>\n",
              "      <td>0</td>\n",
              "      <td>0</td>\n",
              "      <td>0</td>\n",
              "      <td>0</td>\n",
              "      <td>0</td>\n",
              "      <td>0</td>\n",
              "      <td>0</td>\n",
              "      <td>0</td>\n",
              "      <td>0</td>\n",
              "      <td>0</td>\n",
              "      <td>0</td>\n",
              "      <td>0</td>\n",
              "      <td>0</td>\n",
              "      <td>0</td>\n",
              "      <td>0</td>\n",
              "      <td>0</td>\n",
              "      <td>0</td>\n",
              "      <td>0</td>\n",
              "      <td>0</td>\n",
              "      <td>0</td>\n",
              "      <td>0</td>\n",
              "      <td>0</td>\n",
              "      <td>0</td>\n",
              "      <td>0</td>\n",
              "      <td>0</td>\n",
              "      <td>0</td>\n",
              "      <td>0</td>\n",
              "      <td>0</td>\n",
              "      <td>0</td>\n",
              "      <td>0</td>\n",
              "      <td>0</td>\n",
              "      <td>0</td>\n",
              "      <td>0</td>\n",
              "      <td>...</td>\n",
              "      <td>16566</td>\n",
              "      <td>16712</td>\n",
              "      <td>16712</td>\n",
              "      <td>16712</td>\n",
              "      <td>16712</td>\n",
              "      <td>17115</td>\n",
              "      <td>17426</td>\n",
              "      <td>17658</td>\n",
              "      <td>18010</td>\n",
              "      <td>18010</td>\n",
              "      <td>18010</td>\n",
              "      <td>18631</td>\n",
              "      <td>18815</td>\n",
              "      <td>18815</td>\n",
              "      <td>19272</td>\n",
              "      <td>19440</td>\n",
              "      <td>19440</td>\n",
              "      <td>19440</td>\n",
              "      <td>19440</td>\n",
              "      <td>20136</td>\n",
              "      <td>20136</td>\n",
              "      <td>20549</td>\n",
              "      <td>20549</td>\n",
              "      <td>20549</td>\n",
              "      <td>20549</td>\n",
              "      <td>21062</td>\n",
              "      <td>21062</td>\n",
              "      <td>21372</td>\n",
              "      <td>21571</td>\n",
              "      <td>21730</td>\n",
              "      <td>21730</td>\n",
              "      <td>21730</td>\n",
              "      <td>22332</td>\n",
              "      <td>22540</td>\n",
              "      <td>22823</td>\n",
              "      <td>23122</td>\n",
              "      <td>23740</td>\n",
              "      <td>23740</td>\n",
              "      <td>23740</td>\n",
              "      <td>24502</td>\n",
              "    </tr>\n",
              "    <tr>\n",
              "      <th>4</th>\n",
              "      <td></td>\n",
              "      <td>Angola</td>\n",
              "      <td>-11.2027</td>\n",
              "      <td>17.8739</td>\n",
              "      <td>0</td>\n",
              "      <td>0</td>\n",
              "      <td>0</td>\n",
              "      <td>0</td>\n",
              "      <td>0</td>\n",
              "      <td>0</td>\n",
              "      <td>0</td>\n",
              "      <td>0</td>\n",
              "      <td>0</td>\n",
              "      <td>0</td>\n",
              "      <td>0</td>\n",
              "      <td>0</td>\n",
              "      <td>0</td>\n",
              "      <td>0</td>\n",
              "      <td>0</td>\n",
              "      <td>0</td>\n",
              "      <td>0</td>\n",
              "      <td>0</td>\n",
              "      <td>0</td>\n",
              "      <td>0</td>\n",
              "      <td>0</td>\n",
              "      <td>0</td>\n",
              "      <td>0</td>\n",
              "      <td>0</td>\n",
              "      <td>0</td>\n",
              "      <td>0</td>\n",
              "      <td>0</td>\n",
              "      <td>0</td>\n",
              "      <td>0</td>\n",
              "      <td>0</td>\n",
              "      <td>0</td>\n",
              "      <td>0</td>\n",
              "      <td>0</td>\n",
              "      <td>0</td>\n",
              "      <td>0</td>\n",
              "      <td>0</td>\n",
              "      <td>...</td>\n",
              "      <td>65105</td>\n",
              "      <td>65130</td>\n",
              "      <td>65139</td>\n",
              "      <td>65144</td>\n",
              "      <td>65155</td>\n",
              "      <td>65168</td>\n",
              "      <td>65183</td>\n",
              "      <td>65208</td>\n",
              "      <td>65223</td>\n",
              "      <td>65244</td>\n",
              "      <td>65259</td>\n",
              "      <td>65259</td>\n",
              "      <td>65301</td>\n",
              "      <td>65332</td>\n",
              "      <td>65346</td>\n",
              "      <td>65371</td>\n",
              "      <td>65397</td>\n",
              "      <td>65404</td>\n",
              "      <td>65404</td>\n",
              "      <td>65431</td>\n",
              "      <td>65565</td>\n",
              "      <td>65648</td>\n",
              "      <td>65760</td>\n",
              "      <td>65868</td>\n",
              "      <td>65938</td>\n",
              "      <td>66086</td>\n",
              "      <td>66566</td>\n",
              "      <td>67199</td>\n",
              "      <td>68362</td>\n",
              "      <td>70221</td>\n",
              "      <td>71142</td>\n",
              "      <td>71752</td>\n",
              "      <td>71752</td>\n",
              "      <td>76787</td>\n",
              "      <td>78475</td>\n",
              "      <td>79871</td>\n",
              "      <td>81593</td>\n",
              "      <td>82398</td>\n",
              "      <td>82920</td>\n",
              "      <td>83764</td>\n",
              "    </tr>\n",
              "  </tbody>\n",
              "</table>\n",
              "<p>5 rows × 717 columns</p>\n",
              "</div>\n",
              "      <button class=\"colab-df-convert\" onclick=\"convertToInteractive('df-54aed971-6a03-479c-ac9f-56cd6fd54ee9')\"\n",
              "              title=\"Convert this dataframe to an interactive table.\"\n",
              "              style=\"display:none;\">\n",
              "        \n",
              "  <svg xmlns=\"http://www.w3.org/2000/svg\" height=\"24px\"viewBox=\"0 0 24 24\"\n",
              "       width=\"24px\">\n",
              "    <path d=\"M0 0h24v24H0V0z\" fill=\"none\"/>\n",
              "    <path d=\"M18.56 5.44l.94 2.06.94-2.06 2.06-.94-2.06-.94-.94-2.06-.94 2.06-2.06.94zm-11 1L8.5 8.5l.94-2.06 2.06-.94-2.06-.94L8.5 2.5l-.94 2.06-2.06.94zm10 10l.94 2.06.94-2.06 2.06-.94-2.06-.94-.94-2.06-.94 2.06-2.06.94z\"/><path d=\"M17.41 7.96l-1.37-1.37c-.4-.4-.92-.59-1.43-.59-.52 0-1.04.2-1.43.59L10.3 9.45l-7.72 7.72c-.78.78-.78 2.05 0 2.83L4 21.41c.39.39.9.59 1.41.59.51 0 1.02-.2 1.41-.59l7.78-7.78 2.81-2.81c.8-.78.8-2.07 0-2.86zM5.41 20L4 18.59l7.72-7.72 1.47 1.35L5.41 20z\"/>\n",
              "  </svg>\n",
              "      </button>\n",
              "      \n",
              "  <style>\n",
              "    .colab-df-container {\n",
              "      display:flex;\n",
              "      flex-wrap:wrap;\n",
              "      gap: 12px;\n",
              "    }\n",
              "\n",
              "    .colab-df-convert {\n",
              "      background-color: #E8F0FE;\n",
              "      border: none;\n",
              "      border-radius: 50%;\n",
              "      cursor: pointer;\n",
              "      display: none;\n",
              "      fill: #1967D2;\n",
              "      height: 32px;\n",
              "      padding: 0 0 0 0;\n",
              "      width: 32px;\n",
              "    }\n",
              "\n",
              "    .colab-df-convert:hover {\n",
              "      background-color: #E2EBFA;\n",
              "      box-shadow: 0px 1px 2px rgba(60, 64, 67, 0.3), 0px 1px 3px 1px rgba(60, 64, 67, 0.15);\n",
              "      fill: #174EA6;\n",
              "    }\n",
              "\n",
              "    [theme=dark] .colab-df-convert {\n",
              "      background-color: #3B4455;\n",
              "      fill: #D2E3FC;\n",
              "    }\n",
              "\n",
              "    [theme=dark] .colab-df-convert:hover {\n",
              "      background-color: #434B5C;\n",
              "      box-shadow: 0px 1px 3px 1px rgba(0, 0, 0, 0.15);\n",
              "      filter: drop-shadow(0px 1px 2px rgba(0, 0, 0, 0.3));\n",
              "      fill: #FFFFFF;\n",
              "    }\n",
              "  </style>\n",
              "\n",
              "      <script>\n",
              "        const buttonEl =\n",
              "          document.querySelector('#df-54aed971-6a03-479c-ac9f-56cd6fd54ee9 button.colab-df-convert');\n",
              "        buttonEl.style.display =\n",
              "          google.colab.kernel.accessAllowed ? 'block' : 'none';\n",
              "\n",
              "        async function convertToInteractive(key) {\n",
              "          const element = document.querySelector('#df-54aed971-6a03-479c-ac9f-56cd6fd54ee9');\n",
              "          const dataTable =\n",
              "            await google.colab.kernel.invokeFunction('convertToInteractive',\n",
              "                                                     [key], {});\n",
              "          if (!dataTable) return;\n",
              "\n",
              "          const docLinkHtml = 'Like what you see? Visit the ' +\n",
              "            '<a target=\"_blank\" href=https://colab.research.google.com/notebooks/data_table.ipynb>data table notebook</a>'\n",
              "            + ' to learn more about interactive tables.';\n",
              "          element.innerHTML = '';\n",
              "          dataTable['output_type'] = 'display_data';\n",
              "          await google.colab.output.renderOutput(dataTable, element);\n",
              "          const docLink = document.createElement('div');\n",
              "          docLink.innerHTML = docLinkHtml;\n",
              "          element.appendChild(docLink);\n",
              "        }\n",
              "      </script>\n",
              "    </div>\n",
              "  </div>\n",
              "  "
            ],
            "text/plain": [
              "  Province/State Country/Region       Lat  ...  1/1/22  1/2/22  1/3/22\n",
              "0                   Afghanistan  33.93911  ...  158107  158189  158183\n",
              "1                       Albania   41.1533  ...  210224  210885  210885\n",
              "2                       Algeria   28.0339  ...  218818  219159  219532\n",
              "3                       Andorra   42.5063  ...   23740   23740   24502\n",
              "4                        Angola  -11.2027  ...   82398   82920   83764\n",
              "\n",
              "[5 rows x 717 columns]"
            ]
          },
          "metadata": {},
          "execution_count": 92
        }
      ]
    },
    {
      "cell_type": "code",
      "source": [
        "data[data['Country/Region'].str.contains('Korea')]"
      ],
      "metadata": {
        "colab": {
          "base_uri": "https://localhost:8080/",
          "height": 174
        },
        "id": "763QGwwQKUye",
        "outputId": "0364d9bd-8b69-453f-edff-189e357b9c02"
      },
      "execution_count": null,
      "outputs": [
        {
          "output_type": "execute_result",
          "data": {
            "text/html": [
              "\n",
              "  <div id=\"df-7f83898a-4d0a-4281-ad6c-e8f58d4e6a83\">\n",
              "    <div class=\"colab-df-container\">\n",
              "      <div>\n",
              "<style scoped>\n",
              "    .dataframe tbody tr th:only-of-type {\n",
              "        vertical-align: middle;\n",
              "    }\n",
              "\n",
              "    .dataframe tbody tr th {\n",
              "        vertical-align: top;\n",
              "    }\n",
              "\n",
              "    .dataframe thead th {\n",
              "        text-align: right;\n",
              "    }\n",
              "</style>\n",
              "<table border=\"1\" class=\"dataframe\">\n",
              "  <thead>\n",
              "    <tr style=\"text-align: right;\">\n",
              "      <th></th>\n",
              "      <th>Province/State</th>\n",
              "      <th>Country/Region</th>\n",
              "      <th>Lat</th>\n",
              "      <th>Long</th>\n",
              "      <th>1/22/20</th>\n",
              "      <th>1/23/20</th>\n",
              "      <th>1/24/20</th>\n",
              "      <th>1/25/20</th>\n",
              "      <th>1/26/20</th>\n",
              "      <th>1/27/20</th>\n",
              "      <th>1/28/20</th>\n",
              "      <th>1/29/20</th>\n",
              "      <th>1/30/20</th>\n",
              "      <th>1/31/20</th>\n",
              "      <th>2/1/20</th>\n",
              "      <th>2/2/20</th>\n",
              "      <th>2/3/20</th>\n",
              "      <th>2/4/20</th>\n",
              "      <th>2/5/20</th>\n",
              "      <th>2/6/20</th>\n",
              "      <th>2/7/20</th>\n",
              "      <th>2/8/20</th>\n",
              "      <th>2/9/20</th>\n",
              "      <th>2/10/20</th>\n",
              "      <th>2/11/20</th>\n",
              "      <th>2/12/20</th>\n",
              "      <th>2/13/20</th>\n",
              "      <th>2/14/20</th>\n",
              "      <th>2/15/20</th>\n",
              "      <th>2/16/20</th>\n",
              "      <th>2/17/20</th>\n",
              "      <th>2/18/20</th>\n",
              "      <th>2/19/20</th>\n",
              "      <th>2/20/20</th>\n",
              "      <th>2/21/20</th>\n",
              "      <th>2/22/20</th>\n",
              "      <th>2/23/20</th>\n",
              "      <th>2/24/20</th>\n",
              "      <th>2/25/20</th>\n",
              "      <th>2/26/20</th>\n",
              "      <th>...</th>\n",
              "      <th>11/25/21</th>\n",
              "      <th>11/26/21</th>\n",
              "      <th>11/27/21</th>\n",
              "      <th>11/28/21</th>\n",
              "      <th>11/29/21</th>\n",
              "      <th>11/30/21</th>\n",
              "      <th>12/1/21</th>\n",
              "      <th>12/2/21</th>\n",
              "      <th>12/3/21</th>\n",
              "      <th>12/4/21</th>\n",
              "      <th>12/5/21</th>\n",
              "      <th>12/6/21</th>\n",
              "      <th>12/7/21</th>\n",
              "      <th>12/8/21</th>\n",
              "      <th>12/9/21</th>\n",
              "      <th>12/10/21</th>\n",
              "      <th>12/11/21</th>\n",
              "      <th>12/12/21</th>\n",
              "      <th>12/13/21</th>\n",
              "      <th>12/14/21</th>\n",
              "      <th>12/15/21</th>\n",
              "      <th>12/16/21</th>\n",
              "      <th>12/17/21</th>\n",
              "      <th>12/18/21</th>\n",
              "      <th>12/19/21</th>\n",
              "      <th>12/20/21</th>\n",
              "      <th>12/21/21</th>\n",
              "      <th>12/22/21</th>\n",
              "      <th>12/23/21</th>\n",
              "      <th>12/24/21</th>\n",
              "      <th>12/25/21</th>\n",
              "      <th>12/26/21</th>\n",
              "      <th>12/27/21</th>\n",
              "      <th>12/28/21</th>\n",
              "      <th>12/29/21</th>\n",
              "      <th>12/30/21</th>\n",
              "      <th>12/31/21</th>\n",
              "      <th>1/1/22</th>\n",
              "      <th>1/2/22</th>\n",
              "      <th>1/3/22</th>\n",
              "    </tr>\n",
              "  </thead>\n",
              "  <tbody>\n",
              "    <tr>\n",
              "      <th>160</th>\n",
              "      <td></td>\n",
              "      <td>\"Korea</td>\n",
              "      <td>South\"</td>\n",
              "      <td>35.907757</td>\n",
              "      <td>127.766922</td>\n",
              "      <td>1</td>\n",
              "      <td>1</td>\n",
              "      <td>2</td>\n",
              "      <td>2</td>\n",
              "      <td>3</td>\n",
              "      <td>4</td>\n",
              "      <td>4</td>\n",
              "      <td>4</td>\n",
              "      <td>4</td>\n",
              "      <td>11</td>\n",
              "      <td>12</td>\n",
              "      <td>15</td>\n",
              "      <td>15</td>\n",
              "      <td>16</td>\n",
              "      <td>19</td>\n",
              "      <td>23</td>\n",
              "      <td>24</td>\n",
              "      <td>24</td>\n",
              "      <td>25</td>\n",
              "      <td>27</td>\n",
              "      <td>28</td>\n",
              "      <td>28</td>\n",
              "      <td>28</td>\n",
              "      <td>28</td>\n",
              "      <td>28</td>\n",
              "      <td>29</td>\n",
              "      <td>30</td>\n",
              "      <td>31</td>\n",
              "      <td>31</td>\n",
              "      <td>104</td>\n",
              "      <td>204</td>\n",
              "      <td>433</td>\n",
              "      <td>602</td>\n",
              "      <td>833</td>\n",
              "      <td>977</td>\n",
              "      <td>...</td>\n",
              "      <td>429002</td>\n",
              "      <td>432901</td>\n",
              "      <td>436968</td>\n",
              "      <td>440896</td>\n",
              "      <td>444200</td>\n",
              "      <td>447230</td>\n",
              "      <td>452350</td>\n",
              "      <td>457612</td>\n",
              "      <td>457612</td>\n",
              "      <td>467907</td>\n",
              "      <td>473034</td>\n",
              "      <td>477358</td>\n",
              "      <td>482310</td>\n",
              "      <td>489484</td>\n",
              "      <td>496584</td>\n",
              "      <td>503606</td>\n",
              "      <td>510583</td>\n",
              "      <td>517271</td>\n",
              "      <td>523088</td>\n",
              "      <td>528652</td>\n",
              "      <td>536495</td>\n",
              "      <td>544117</td>\n",
              "      <td>551551</td>\n",
              "      <td>558864</td>\n",
              "      <td>565098</td>\n",
              "      <td>570414</td>\n",
              "      <td>575615</td>\n",
              "      <td>583065</td>\n",
              "      <td>589978</td>\n",
              "      <td>596209</td>\n",
              "      <td>602045</td>\n",
              "      <td>607463</td>\n",
              "      <td>611670</td>\n",
              "      <td>615532</td>\n",
              "      <td>620938</td>\n",
              "      <td>625967</td>\n",
              "      <td>630838</td>\n",
              "      <td>635253</td>\n",
              "      <td>639083</td>\n",
              "      <td>642207</td>\n",
              "    </tr>\n",
              "  </tbody>\n",
              "</table>\n",
              "<p>1 rows × 717 columns</p>\n",
              "</div>\n",
              "      <button class=\"colab-df-convert\" onclick=\"convertToInteractive('df-7f83898a-4d0a-4281-ad6c-e8f58d4e6a83')\"\n",
              "              title=\"Convert this dataframe to an interactive table.\"\n",
              "              style=\"display:none;\">\n",
              "        \n",
              "  <svg xmlns=\"http://www.w3.org/2000/svg\" height=\"24px\"viewBox=\"0 0 24 24\"\n",
              "       width=\"24px\">\n",
              "    <path d=\"M0 0h24v24H0V0z\" fill=\"none\"/>\n",
              "    <path d=\"M18.56 5.44l.94 2.06.94-2.06 2.06-.94-2.06-.94-.94-2.06-.94 2.06-2.06.94zm-11 1L8.5 8.5l.94-2.06 2.06-.94-2.06-.94L8.5 2.5l-.94 2.06-2.06.94zm10 10l.94 2.06.94-2.06 2.06-.94-2.06-.94-.94-2.06-.94 2.06-2.06.94z\"/><path d=\"M17.41 7.96l-1.37-1.37c-.4-.4-.92-.59-1.43-.59-.52 0-1.04.2-1.43.59L10.3 9.45l-7.72 7.72c-.78.78-.78 2.05 0 2.83L4 21.41c.39.39.9.59 1.41.59.51 0 1.02-.2 1.41-.59l7.78-7.78 2.81-2.81c.8-.78.8-2.07 0-2.86zM5.41 20L4 18.59l7.72-7.72 1.47 1.35L5.41 20z\"/>\n",
              "  </svg>\n",
              "      </button>\n",
              "      \n",
              "  <style>\n",
              "    .colab-df-container {\n",
              "      display:flex;\n",
              "      flex-wrap:wrap;\n",
              "      gap: 12px;\n",
              "    }\n",
              "\n",
              "    .colab-df-convert {\n",
              "      background-color: #E8F0FE;\n",
              "      border: none;\n",
              "      border-radius: 50%;\n",
              "      cursor: pointer;\n",
              "      display: none;\n",
              "      fill: #1967D2;\n",
              "      height: 32px;\n",
              "      padding: 0 0 0 0;\n",
              "      width: 32px;\n",
              "    }\n",
              "\n",
              "    .colab-df-convert:hover {\n",
              "      background-color: #E2EBFA;\n",
              "      box-shadow: 0px 1px 2px rgba(60, 64, 67, 0.3), 0px 1px 3px 1px rgba(60, 64, 67, 0.15);\n",
              "      fill: #174EA6;\n",
              "    }\n",
              "\n",
              "    [theme=dark] .colab-df-convert {\n",
              "      background-color: #3B4455;\n",
              "      fill: #D2E3FC;\n",
              "    }\n",
              "\n",
              "    [theme=dark] .colab-df-convert:hover {\n",
              "      background-color: #434B5C;\n",
              "      box-shadow: 0px 1px 3px 1px rgba(0, 0, 0, 0.15);\n",
              "      filter: drop-shadow(0px 1px 2px rgba(0, 0, 0, 0.3));\n",
              "      fill: #FFFFFF;\n",
              "    }\n",
              "  </style>\n",
              "\n",
              "      <script>\n",
              "        const buttonEl =\n",
              "          document.querySelector('#df-7f83898a-4d0a-4281-ad6c-e8f58d4e6a83 button.colab-df-convert');\n",
              "        buttonEl.style.display =\n",
              "          google.colab.kernel.accessAllowed ? 'block' : 'none';\n",
              "\n",
              "        async function convertToInteractive(key) {\n",
              "          const element = document.querySelector('#df-7f83898a-4d0a-4281-ad6c-e8f58d4e6a83');\n",
              "          const dataTable =\n",
              "            await google.colab.kernel.invokeFunction('convertToInteractive',\n",
              "                                                     [key], {});\n",
              "          if (!dataTable) return;\n",
              "\n",
              "          const docLinkHtml = 'Like what you see? Visit the ' +\n",
              "            '<a target=\"_blank\" href=https://colab.research.google.com/notebooks/data_table.ipynb>data table notebook</a>'\n",
              "            + ' to learn more about interactive tables.';\n",
              "          element.innerHTML = '';\n",
              "          dataTable['output_type'] = 'display_data';\n",
              "          await google.colab.output.renderOutput(dataTable, element);\n",
              "          const docLink = document.createElement('div');\n",
              "          docLink.innerHTML = docLinkHtml;\n",
              "          element.appendChild(docLink);\n",
              "        }\n",
              "      </script>\n",
              "    </div>\n",
              "  </div>\n",
              "  "
            ],
            "text/plain": [
              "    Province/State Country/Region      Lat  ...  1/1/22  1/2/22  1/3/22\n",
              "160                        \"Korea   South\"  ...  635253  639083  642207\n",
              "\n",
              "[1 rows x 717 columns]"
            ]
          },
          "metadata": {},
          "execution_count": 91
        }
      ]
    },
    {
      "cell_type": "code",
      "source": [
        ""
      ],
      "metadata": {
        "id": "I2ELeZy3KU07"
      },
      "execution_count": null,
      "outputs": []
    },
    {
      "cell_type": "code",
      "source": [
        ""
      ],
      "metadata": {
        "id": "ZWUcFyFfKU3P"
      },
      "execution_count": null,
      "outputs": []
    },
    {
      "cell_type": "code",
      "source": [
        ""
      ],
      "metadata": {
        "id": "-BnwvCnGKU5k"
      },
      "execution_count": null,
      "outputs": []
    }
  ]
}